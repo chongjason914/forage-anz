{
 "cells": [
  {
   "cell_type": "markdown",
   "metadata": {},
   "source": [
    "# Load libraries"
   ]
  },
  {
   "cell_type": "code",
   "execution_count": 1,
   "metadata": {
    "scrolled": true
   },
   "outputs": [
    {
     "name": "stderr",
     "output_type": "stream",
     "text": [
      "Registered S3 methods overwritten by 'ggplot2':\n",
      "  method         from \n",
      "  [.quosures     rlang\n",
      "  c.quosures     rlang\n",
      "  print.quosures rlang\n",
      "Registered S3 method overwritten by 'rvest':\n",
      "  method            from\n",
      "  read_xml.response xml2\n",
      "-- Attaching packages --------------------------------------- tidyverse 1.2.1 --\n",
      "v ggplot2 3.1.1       v purrr   0.3.2  \n",
      "v tibble  2.1.1       v dplyr   0.8.0.1\n",
      "v tidyr   0.8.3       v stringr 1.4.0  \n",
      "v readr   1.3.1       v forcats 0.4.0  \n",
      "-- Conflicts ------------------------------------------ tidyverse_conflicts() --\n",
      "x dplyr::filter() masks stats::filter()\n",
      "x dplyr::lag()    masks stats::lag()\n",
      "\n",
      "Attaching package: 'lubridate'\n",
      "\n",
      "The following object is masked from 'package:base':\n",
      "\n",
      "    date\n",
      "\n",
      "Warning message:\n",
      "\"package 'Metrics' was built under R version 3.6.3\"Warning message:\n",
      "\"package 'rpart' was built under R version 3.6.3\""
     ]
    }
   ],
   "source": [
    "library(tidyverse)\n",
    "library(readxl)\n",
    "library(lubridate)\n",
    "library(Metrics)\n",
    "library(rpart)"
   ]
  },
  {
   "cell_type": "markdown",
   "metadata": {},
   "source": [
    "# Load transaction dataset"
   ]
  },
  {
   "cell_type": "code",
   "execution_count": 2,
   "metadata": {},
   "outputs": [
    {
     "name": "stderr",
     "output_type": "stream",
     "text": [
      "Warning message in read_fun(path = enc2native(normalizePath(path)), sheet_i = sheet, :\n",
      "\"Expecting numeric in C3052 / R3052C3: got 'THE DISCOUNT CHEMIST GROUP'\"Warning message in read_fun(path = enc2native(normalizePath(path)), sheet_i = sheet, :\n",
      "\"Expecting numeric in C4360 / R4360C3: got 'LAND WATER & PLANNING East Melbourne'\""
     ]
    },
    {
     "data": {
      "text/html": [
       "<table>\n",
       "<thead><tr><th scope=col>status</th><th scope=col>card_present_flag</th><th scope=col>bpay_biller_code</th><th scope=col>account</th><th scope=col>currency</th><th scope=col>long_lat</th><th scope=col>txn_description</th><th scope=col>merchant_id</th><th scope=col>merchant_code</th><th scope=col>first_name</th><th scope=col>...</th><th scope=col>age</th><th scope=col>merchant_suburb</th><th scope=col>merchant_state</th><th scope=col>extraction</th><th scope=col>amount</th><th scope=col>transaction_id</th><th scope=col>country</th><th scope=col>customer_id</th><th scope=col>merchant_long_lat</th><th scope=col>movement</th></tr></thead>\n",
       "<tbody>\n",
       "\t<tr><td>authorized                          </td><td> 1                                  </td><td>NA                                  </td><td>ACC-1598451071                      </td><td>AUD                                 </td><td>153.41 -27.95                       </td><td>POS                                 </td><td>81c48296-73be-44a7-befa-d053f48ce7cd</td><td>NA                                  </td><td>Diana                               </td><td>...                                 </td><td>26                                  </td><td>Ashmore                             </td><td>QLD                                 </td><td>2018-08-01T01:01:15.000+0000        </td><td> 16.25                              </td><td>a623070bfead4541a6b0fff8a09e706c    </td><td>Australia                           </td><td>CUS-2487424745                      </td><td>153.38 -27.99                       </td><td>debit                               </td></tr>\n",
       "\t<tr><td>authorized                          </td><td> 0                                  </td><td>NA                                  </td><td>ACC-1598451071                      </td><td>AUD                                 </td><td>153.41 -27.95                       </td><td>SALES-POS                           </td><td>830a451c-316e-4a6a-bf25-e37caedca49e</td><td>NA                                  </td><td>Diana                               </td><td>...                                 </td><td>26                                  </td><td>Sydney                              </td><td>NSW                                 </td><td>2018-08-01T01:13:45.000+0000        </td><td> 14.19                              </td><td>13270a2a902145da9db4c951e04b51b9    </td><td>Australia                           </td><td>CUS-2487424745                      </td><td>151.21 -33.87                       </td><td>debit                               </td></tr>\n",
       "\t<tr><td>authorized                          </td><td> 1                                  </td><td>NA                                  </td><td>ACC-1222300524                      </td><td>AUD                                 </td><td>151.23 -33.94                       </td><td>POS                                 </td><td>835c231d-8cdf-4e96-859d-e9d571760cf0</td><td>NA                                  </td><td>Michael                             </td><td>...                                 </td><td>38                                  </td><td>Sydney                              </td><td>NSW                                 </td><td>2018-08-01T01:26:15.000+0000        </td><td>  6.42                              </td><td>feb79e7ecd7048a5a36ec889d1a94270    </td><td>Australia                           </td><td>CUS-2142601169                      </td><td>151.21 -33.87                       </td><td>debit                               </td></tr>\n",
       "\t<tr><td>authorized                          </td><td> 1                                  </td><td>NA                                  </td><td>ACC-1037050564                      </td><td>AUD                                 </td><td>153.10 -27.66                       </td><td>SALES-POS                           </td><td>48514682-c78a-4a88-b0da-2d6302e64673</td><td>NA                                  </td><td>Rhonda                              </td><td>...                                 </td><td>40                                  </td><td>Buderim                             </td><td>QLD                                 </td><td>2018-08-01T01:38:45.000+0000        </td><td> 40.90                              </td><td>2698170da3704fd981b15e64a006079e    </td><td>Australia                           </td><td>CUS-1614226872                      </td><td>153.05 -26.68                       </td><td>debit                               </td></tr>\n",
       "\t<tr><td>authorized                          </td><td> 1                                  </td><td>NA                                  </td><td>ACC-1598451071                      </td><td>AUD                                 </td><td>153.41 -27.95                       </td><td>SALES-POS                           </td><td>b4e02c10-0852-4273-b8fd-7b3395e32eb0</td><td>NA                                  </td><td>Diana                               </td><td>...                                 </td><td>26                                  </td><td>Mermaid Beach                       </td><td>QLD                                 </td><td>2018-08-01T01:51:15.000+0000        </td><td>  3.25                              </td><td>329adf79878c4cf0aeb4188b4691c266    </td><td>Australia                           </td><td>CUS-2487424745                      </td><td>153.44 -28.06                       </td><td>debit                               </td></tr>\n",
       "\t<tr><td>posted                              </td><td>NA                                  </td><td>NA                                  </td><td>ACC-1608363396                      </td><td>AUD                                 </td><td>151.22 -33.87                       </td><td>PAYMENT                             </td><td>NA                                  </td><td>NA                                  </td><td>Robert                              </td><td>...                                 </td><td>20                                  </td><td>NA                                  </td><td>NA                                  </td><td>2018-08-01T02:00:00.000+0000        </td><td>163.00                              </td><td>1005b48a6eda4ffd85e9b649dc9467d3    </td><td>Australia                           </td><td>CUS-2688605418                      </td><td>NA                                  </td><td>debit                               </td></tr>\n",
       "</tbody>\n",
       "</table>\n"
      ],
      "text/latex": [
       "\\begin{tabular}{r|lllllllllllllllllllllll}\n",
       " status & card\\_present\\_flag & bpay\\_biller\\_code & account & currency & long\\_lat & txn\\_description & merchant\\_id & merchant\\_code & first\\_name & ... & age & merchant\\_suburb & merchant\\_state & extraction & amount & transaction\\_id & country & customer\\_id & merchant\\_long\\_lat & movement\\\\\n",
       "\\hline\n",
       "\t authorized                           &  1                                   & NA                                   & ACC-1598451071                       & AUD                                  & 153.41 -27.95                        & POS                                  & 81c48296-73be-44a7-befa-d053f48ce7cd & NA                                   & Diana                                & ...                                  & 26                                   & Ashmore                              & QLD                                  & 2018-08-01T01:01:15.000+0000         &  16.25                               & a623070bfead4541a6b0fff8a09e706c     & Australia                            & CUS-2487424745                       & 153.38 -27.99                        & debit                               \\\\\n",
       "\t authorized                           &  0                                   & NA                                   & ACC-1598451071                       & AUD                                  & 153.41 -27.95                        & SALES-POS                            & 830a451c-316e-4a6a-bf25-e37caedca49e & NA                                   & Diana                                & ...                                  & 26                                   & Sydney                               & NSW                                  & 2018-08-01T01:13:45.000+0000         &  14.19                               & 13270a2a902145da9db4c951e04b51b9     & Australia                            & CUS-2487424745                       & 151.21 -33.87                        & debit                               \\\\\n",
       "\t authorized                           &  1                                   & NA                                   & ACC-1222300524                       & AUD                                  & 151.23 -33.94                        & POS                                  & 835c231d-8cdf-4e96-859d-e9d571760cf0 & NA                                   & Michael                              & ...                                  & 38                                   & Sydney                               & NSW                                  & 2018-08-01T01:26:15.000+0000         &   6.42                               & feb79e7ecd7048a5a36ec889d1a94270     & Australia                            & CUS-2142601169                       & 151.21 -33.87                        & debit                               \\\\\n",
       "\t authorized                           &  1                                   & NA                                   & ACC-1037050564                       & AUD                                  & 153.10 -27.66                        & SALES-POS                            & 48514682-c78a-4a88-b0da-2d6302e64673 & NA                                   & Rhonda                               & ...                                  & 40                                   & Buderim                              & QLD                                  & 2018-08-01T01:38:45.000+0000         &  40.90                               & 2698170da3704fd981b15e64a006079e     & Australia                            & CUS-1614226872                       & 153.05 -26.68                        & debit                               \\\\\n",
       "\t authorized                           &  1                                   & NA                                   & ACC-1598451071                       & AUD                                  & 153.41 -27.95                        & SALES-POS                            & b4e02c10-0852-4273-b8fd-7b3395e32eb0 & NA                                   & Diana                                & ...                                  & 26                                   & Mermaid Beach                        & QLD                                  & 2018-08-01T01:51:15.000+0000         &   3.25                               & 329adf79878c4cf0aeb4188b4691c266     & Australia                            & CUS-2487424745                       & 153.44 -28.06                        & debit                               \\\\\n",
       "\t posted                               & NA                                   & NA                                   & ACC-1608363396                       & AUD                                  & 151.22 -33.87                        & PAYMENT                              & NA                                   & NA                                   & Robert                               & ...                                  & 20                                   & NA                                   & NA                                   & 2018-08-01T02:00:00.000+0000         & 163.00                               & 1005b48a6eda4ffd85e9b649dc9467d3     & Australia                            & CUS-2688605418                       & NA                                   & debit                               \\\\\n",
       "\\end{tabular}\n"
      ],
      "text/markdown": [
       "\n",
       "| status | card_present_flag | bpay_biller_code | account | currency | long_lat | txn_description | merchant_id | merchant_code | first_name | ... | age | merchant_suburb | merchant_state | extraction | amount | transaction_id | country | customer_id | merchant_long_lat | movement |\n",
       "|---|---|---|---|---|---|---|---|---|---|---|---|---|---|---|---|---|---|---|---|---|\n",
       "| authorized                           |  1                                   | NA                                   | ACC-1598451071                       | AUD                                  | 153.41 -27.95                        | POS                                  | 81c48296-73be-44a7-befa-d053f48ce7cd | NA                                   | Diana                                | ...                                  | 26                                   | Ashmore                              | QLD                                  | 2018-08-01T01:01:15.000+0000         |  16.25                               | a623070bfead4541a6b0fff8a09e706c     | Australia                            | CUS-2487424745                       | 153.38 -27.99                        | debit                                |\n",
       "| authorized                           |  0                                   | NA                                   | ACC-1598451071                       | AUD                                  | 153.41 -27.95                        | SALES-POS                            | 830a451c-316e-4a6a-bf25-e37caedca49e | NA                                   | Diana                                | ...                                  | 26                                   | Sydney                               | NSW                                  | 2018-08-01T01:13:45.000+0000         |  14.19                               | 13270a2a902145da9db4c951e04b51b9     | Australia                            | CUS-2487424745                       | 151.21 -33.87                        | debit                                |\n",
       "| authorized                           |  1                                   | NA                                   | ACC-1222300524                       | AUD                                  | 151.23 -33.94                        | POS                                  | 835c231d-8cdf-4e96-859d-e9d571760cf0 | NA                                   | Michael                              | ...                                  | 38                                   | Sydney                               | NSW                                  | 2018-08-01T01:26:15.000+0000         |   6.42                               | feb79e7ecd7048a5a36ec889d1a94270     | Australia                            | CUS-2142601169                       | 151.21 -33.87                        | debit                                |\n",
       "| authorized                           |  1                                   | NA                                   | ACC-1037050564                       | AUD                                  | 153.10 -27.66                        | SALES-POS                            | 48514682-c78a-4a88-b0da-2d6302e64673 | NA                                   | Rhonda                               | ...                                  | 40                                   | Buderim                              | QLD                                  | 2018-08-01T01:38:45.000+0000         |  40.90                               | 2698170da3704fd981b15e64a006079e     | Australia                            | CUS-1614226872                       | 153.05 -26.68                        | debit                                |\n",
       "| authorized                           |  1                                   | NA                                   | ACC-1598451071                       | AUD                                  | 153.41 -27.95                        | SALES-POS                            | b4e02c10-0852-4273-b8fd-7b3395e32eb0 | NA                                   | Diana                                | ...                                  | 26                                   | Mermaid Beach                        | QLD                                  | 2018-08-01T01:51:15.000+0000         |   3.25                               | 329adf79878c4cf0aeb4188b4691c266     | Australia                            | CUS-2487424745                       | 153.44 -28.06                        | debit                                |\n",
       "| posted                               | NA                                   | NA                                   | ACC-1608363396                       | AUD                                  | 151.22 -33.87                        | PAYMENT                              | NA                                   | NA                                   | Robert                               | ...                                  | 20                                   | NA                                   | NA                                   | 2018-08-01T02:00:00.000+0000         | 163.00                               | 1005b48a6eda4ffd85e9b649dc9467d3     | Australia                            | CUS-2688605418                       | NA                                   | debit                                |\n",
       "\n"
      ],
      "text/plain": [
       "  status     card_present_flag bpay_biller_code account        currency\n",
       "1 authorized  1                NA               ACC-1598451071 AUD     \n",
       "2 authorized  0                NA               ACC-1598451071 AUD     \n",
       "3 authorized  1                NA               ACC-1222300524 AUD     \n",
       "4 authorized  1                NA               ACC-1037050564 AUD     \n",
       "5 authorized  1                NA               ACC-1598451071 AUD     \n",
       "6 posted     NA                NA               ACC-1608363396 AUD     \n",
       "  long_lat      txn_description merchant_id                         \n",
       "1 153.41 -27.95 POS             81c48296-73be-44a7-befa-d053f48ce7cd\n",
       "2 153.41 -27.95 SALES-POS       830a451c-316e-4a6a-bf25-e37caedca49e\n",
       "3 151.23 -33.94 POS             835c231d-8cdf-4e96-859d-e9d571760cf0\n",
       "4 153.10 -27.66 SALES-POS       48514682-c78a-4a88-b0da-2d6302e64673\n",
       "5 153.41 -27.95 SALES-POS       b4e02c10-0852-4273-b8fd-7b3395e32eb0\n",
       "6 151.22 -33.87 PAYMENT         NA                                  \n",
       "  merchant_code first_name ... age merchant_suburb merchant_state\n",
       "1 NA            Diana      ... 26  Ashmore         QLD           \n",
       "2 NA            Diana      ... 26  Sydney          NSW           \n",
       "3 NA            Michael    ... 38  Sydney          NSW           \n",
       "4 NA            Rhonda     ... 40  Buderim         QLD           \n",
       "5 NA            Diana      ... 26  Mermaid Beach   QLD           \n",
       "6 NA            Robert     ... 20  NA              NA            \n",
       "  extraction                   amount transaction_id                  \n",
       "1 2018-08-01T01:01:15.000+0000  16.25 a623070bfead4541a6b0fff8a09e706c\n",
       "2 2018-08-01T01:13:45.000+0000  14.19 13270a2a902145da9db4c951e04b51b9\n",
       "3 2018-08-01T01:26:15.000+0000   6.42 feb79e7ecd7048a5a36ec889d1a94270\n",
       "4 2018-08-01T01:38:45.000+0000  40.90 2698170da3704fd981b15e64a006079e\n",
       "5 2018-08-01T01:51:15.000+0000   3.25 329adf79878c4cf0aeb4188b4691c266\n",
       "6 2018-08-01T02:00:00.000+0000 163.00 1005b48a6eda4ffd85e9b649dc9467d3\n",
       "  country   customer_id    merchant_long_lat movement\n",
       "1 Australia CUS-2487424745 153.38 -27.99     debit   \n",
       "2 Australia CUS-2487424745 151.21 -33.87     debit   \n",
       "3 Australia CUS-2142601169 151.21 -33.87     debit   \n",
       "4 Australia CUS-1614226872 153.05 -26.68     debit   \n",
       "5 Australia CUS-2487424745 153.44 -28.06     debit   \n",
       "6 Australia CUS-2688605418 NA                debit   "
      ]
     },
     "metadata": {},
     "output_type": "display_data"
    }
   ],
   "source": [
    "setwd(\"C:/Users/Jason Chong/Documents/Forage ANZ/Data\")\n",
    "df = read_excel(\"transaction.xlsx\")\n",
    "head(df)"
   ]
  },
  {
   "cell_type": "markdown",
   "metadata": {},
   "source": [
    "# Data preparation "
   ]
  },
  {
   "cell_type": "code",
   "execution_count": 3,
   "metadata": {
    "scrolled": true
   },
   "outputs": [
    {
     "data": {
      "text/plain": [
       "    status          card_present_flag bpay_biller_code   account         \n",
       " Length:12043       Min.   :0.000     Min.   :0        Length:12043      \n",
       " Class :character   1st Qu.:1.000     1st Qu.:0        Class :character  \n",
       " Mode  :character   Median :1.000     Median :0        Mode  :character  \n",
       "                    Mean   :0.803     Mean   :0                          \n",
       "                    3rd Qu.:1.000     3rd Qu.:0                          \n",
       "                    Max.   :1.000     Max.   :0                          \n",
       "                    NA's   :4326      NA's   :11160                      \n",
       "   currency           long_lat         txn_description    merchant_id       \n",
       " Length:12043       Length:12043       Length:12043       Length:12043      \n",
       " Class :character   Class :character   Class :character   Class :character  \n",
       " Mode  :character   Mode  :character   Mode  :character   Mode  :character  \n",
       "                                                                            \n",
       "                                                                            \n",
       "                                                                            \n",
       "                                                                            \n",
       " merchant_code    first_name           balance         \n",
       " Min.   :0       Length:12043       Min.   :     0.24  \n",
       " 1st Qu.:0       Class :character   1st Qu.:  3158.59  \n",
       " Median :0       Mode  :character   Median :  6432.01  \n",
       " Mean   :0                          Mean   : 14704.20  \n",
       " 3rd Qu.:0                          3rd Qu.: 12465.94  \n",
       " Max.   :0                          Max.   :267128.52  \n",
       " NA's   :11160                                         \n",
       "      date                        gender               age       \n",
       " Min.   :2018-08-01 00:00:00   Length:12043       Min.   :18.00  \n",
       " 1st Qu.:2018-08-24 00:00:00   Class :character   1st Qu.:22.00  \n",
       " Median :2018-09-16 00:00:00   Mode  :character   Median :28.00  \n",
       " Mean   :2018-09-15 21:27:39                      Mean   :30.58  \n",
       " 3rd Qu.:2018-10-09 00:00:00                      3rd Qu.:38.00  \n",
       " Max.   :2018-10-31 00:00:00                      Max.   :78.00  \n",
       "                                                                 \n",
       " merchant_suburb    merchant_state      extraction            amount       \n",
       " Length:12043       Length:12043       Length:12043       Min.   :   0.10  \n",
       " Class :character   Class :character   Class :character   1st Qu.:  16.00  \n",
       " Mode  :character   Mode  :character   Mode  :character   Median :  29.00  \n",
       "                                                          Mean   : 187.93  \n",
       "                                                          3rd Qu.:  53.66  \n",
       "                                                          Max.   :8835.98  \n",
       "                                                                           \n",
       " transaction_id       country          customer_id        merchant_long_lat \n",
       " Length:12043       Length:12043       Length:12043       Length:12043      \n",
       " Class :character   Class :character   Class :character   Class :character  \n",
       " Mode  :character   Mode  :character   Mode  :character   Mode  :character  \n",
       "                                                                            \n",
       "                                                                            \n",
       "                                                                            \n",
       "                                                                            \n",
       "   movement        \n",
       " Length:12043      \n",
       " Class :character  \n",
       " Mode  :character  \n",
       "                   \n",
       "                   \n",
       "                   \n",
       "                   "
      ]
     },
     "metadata": {},
     "output_type": "display_data"
    }
   ],
   "source": [
    "summary(df)"
   ]
  },
  {
   "cell_type": "code",
   "execution_count": 4,
   "metadata": {
    "scrolled": true
   },
   "outputs": [
    {
     "name": "stdout",
     "output_type": "stream",
     "text": [
      "Classes 'tbl_df', 'tbl' and 'data.frame':\t12043 obs. of  23 variables:\n",
      " $ status           : chr  \"authorized\" \"authorized\" \"authorized\" \"authorized\" ...\n",
      " $ card_present_flag: num  1 0 1 1 1 NA 1 1 1 NA ...\n",
      " $ bpay_biller_code : num  NA NA NA NA NA NA NA NA NA NA ...\n",
      " $ account          : chr  \"ACC-1598451071\" \"ACC-1598451071\" \"ACC-1222300524\" \"ACC-1037050564\" ...\n",
      " $ currency         : chr  \"AUD\" \"AUD\" \"AUD\" \"AUD\" ...\n",
      " $ long_lat         : chr  \"153.41 -27.95\" \"153.41 -27.95\" \"151.23 -33.94\" \"153.10 -27.66\" ...\n",
      " $ txn_description  : chr  \"POS\" \"SALES-POS\" \"POS\" \"SALES-POS\" ...\n",
      " $ merchant_id      : chr  \"81c48296-73be-44a7-befa-d053f48ce7cd\" \"830a451c-316e-4a6a-bf25-e37caedca49e\" \"835c231d-8cdf-4e96-859d-e9d571760cf0\" \"48514682-c78a-4a88-b0da-2d6302e64673\" ...\n",
      " $ merchant_code    : num  NA NA NA NA NA NA NA NA NA NA ...\n",
      " $ first_name       : chr  \"Diana\" \"Diana\" \"Michael\" \"Rhonda\" ...\n",
      " $ balance          : num  35.39 21.2 5.71 2117.22 17.95 ...\n",
      " $ date             : POSIXct, format: \"2018-08-01\" \"2018-08-01\" ...\n",
      " $ gender           : chr  \"F\" \"F\" \"M\" \"F\" ...\n",
      " $ age              : num  26 26 38 40 26 20 43 43 27 40 ...\n",
      " $ merchant_suburb  : chr  \"Ashmore\" \"Sydney\" \"Sydney\" \"Buderim\" ...\n",
      " $ merchant_state   : chr  \"QLD\" \"NSW\" \"NSW\" \"QLD\" ...\n",
      " $ extraction       : chr  \"2018-08-01T01:01:15.000+0000\" \"2018-08-01T01:13:45.000+0000\" \"2018-08-01T01:26:15.000+0000\" \"2018-08-01T01:38:45.000+0000\" ...\n",
      " $ amount           : num  16.25 14.19 6.42 40.9 3.25 ...\n",
      " $ transaction_id   : chr  \"a623070bfead4541a6b0fff8a09e706c\" \"13270a2a902145da9db4c951e04b51b9\" \"feb79e7ecd7048a5a36ec889d1a94270\" \"2698170da3704fd981b15e64a006079e\" ...\n",
      " $ country          : chr  \"Australia\" \"Australia\" \"Australia\" \"Australia\" ...\n",
      " $ customer_id      : chr  \"CUS-2487424745\" \"CUS-2487424745\" \"CUS-2142601169\" \"CUS-1614226872\" ...\n",
      " $ merchant_long_lat: chr  \"153.38 -27.99\" \"151.21 -33.87\" \"151.21 -33.87\" \"153.05 -26.68\" ...\n",
      " $ movement         : chr  \"debit\" \"debit\" \"debit\" \"debit\" ...\n"
     ]
    }
   ],
   "source": [
    "str(df)"
   ]
  },
  {
   "cell_type": "code",
   "execution_count": 5,
   "metadata": {},
   "outputs": [],
   "source": [
    "# Change the format of the date column \n",
    "df$date = as.Date(df$date, format = \"%d/%m/%Y\")"
   ]
  },
  {
   "cell_type": "code",
   "execution_count": 6,
   "metadata": {},
   "outputs": [
    {
     "data": {
      "text/html": [
       "<time datetime=\"2018-08-16\">2018-08-16</time>"
      ],
      "text/latex": [
       "2018-08-16"
      ],
      "text/markdown": [
       "2018-08-16"
      ],
      "text/plain": [
       "[1] \"2018-08-16\""
      ]
     },
     "metadata": {},
     "output_type": "display_data"
    }
   ],
   "source": [
    "# The dataset only contain records for 91 days, one day is missing \n",
    "date_range = seq(min(df$date), max(df$date), by = 1)\n",
    "date_range[!date_range %in% df$date]"
   ]
  },
  {
   "cell_type": "code",
   "execution_count": 7,
   "metadata": {},
   "outputs": [],
   "source": [
    "# Derive weekday and hour data of each transaction \n",
    "df$extraction = as.character(df$extraction)\n",
    "df$hour = hour(as.POSIXct(substr(df$extraction,12,19), format = \"%H:%M:%S\"))\n",
    "df$weekday = weekdays(df$date)"
   ]
  },
  {
   "cell_type": "code",
   "execution_count": 8,
   "metadata": {},
   "outputs": [
    {
     "data": {
      "text/html": [
       "100"
      ],
      "text/latex": [
       "100"
      ],
      "text/markdown": [
       "100"
      ],
      "text/plain": [
       "[1] 100"
      ]
     },
     "metadata": {},
     "output_type": "display_data"
    }
   ],
   "source": [
    "# Confirm the one-to-one link of account_id and customer_id\n",
    "df %>% select(account, customer_id) %>% unique() %>% nrow()"
   ]
  },
  {
   "cell_type": "code",
   "execution_count": 9,
   "metadata": {},
   "outputs": [],
   "source": [
    "# Split customer and merchant long_lat into individual columns for analysis\n",
    "dfloc = df[, c(\"long_lat\", \"merchant_long_lat\")]\n",
    "dfloc = dfloc %>% separate(\"long_lat\", c(\"c_long\", \"c_lat\"), sep = \" \")\n",
    "dfloc = dfloc %>% separate(\"merchant_long_lat\", c(\"m_long\", \"m_lat\"), sep = \" \")\n",
    "dfloc = data.frame(sapply(dfloc, as.numeric))\n",
    "df = cbind(df, dfloc)"
   ]
  },
  {
   "cell_type": "code",
   "execution_count": 10,
   "metadata": {},
   "outputs": [
    {
     "data": {
      "text/html": [
       "<table>\n",
       "<thead><tr><th scope=col>long_lat</th><th scope=col>c_long</th><th scope=col>c_lat</th><th scope=col>merchant_long_lat</th><th scope=col>m_long</th><th scope=col>m_lat</th></tr></thead>\n",
       "<tbody>\n",
       "\t<tr><td>153.41 -27.95</td><td>153.41       </td><td>-27.95       </td><td>153.38 -27.99</td><td>153.38       </td><td>-27.99       </td></tr>\n",
       "\t<tr><td>153.41 -27.95</td><td>153.41       </td><td>-27.95       </td><td>151.21 -33.87</td><td>151.21       </td><td>-33.87       </td></tr>\n",
       "\t<tr><td>151.23 -33.94</td><td>151.23       </td><td>-33.94       </td><td>151.21 -33.87</td><td>151.21       </td><td>-33.87       </td></tr>\n",
       "\t<tr><td>153.10 -27.66</td><td>153.10       </td><td>-27.66       </td><td>153.05 -26.68</td><td>153.05       </td><td>-26.68       </td></tr>\n",
       "\t<tr><td>153.41 -27.95</td><td>153.41       </td><td>-27.95       </td><td>153.44 -28.06</td><td>153.44       </td><td>-28.06       </td></tr>\n",
       "\t<tr><td>151.22 -33.87</td><td>151.22       </td><td>-33.87       </td><td>NA           </td><td>    NA       </td><td>    NA       </td></tr>\n",
       "</tbody>\n",
       "</table>\n"
      ],
      "text/latex": [
       "\\begin{tabular}{r|llllll}\n",
       " long\\_lat & c\\_long & c\\_lat & merchant\\_long\\_lat & m\\_long & m\\_lat\\\\\n",
       "\\hline\n",
       "\t 153.41 -27.95 & 153.41        & -27.95        & 153.38 -27.99 & 153.38        & -27.99       \\\\\n",
       "\t 153.41 -27.95 & 153.41        & -27.95        & 151.21 -33.87 & 151.21        & -33.87       \\\\\n",
       "\t 151.23 -33.94 & 151.23        & -33.94        & 151.21 -33.87 & 151.21        & -33.87       \\\\\n",
       "\t 153.10 -27.66 & 153.10        & -27.66        & 153.05 -26.68 & 153.05        & -26.68       \\\\\n",
       "\t 153.41 -27.95 & 153.41        & -27.95        & 153.44 -28.06 & 153.44        & -28.06       \\\\\n",
       "\t 151.22 -33.87 & 151.22        & -33.87        & NA            &     NA        &     NA       \\\\\n",
       "\\end{tabular}\n"
      ],
      "text/markdown": [
       "\n",
       "| long_lat | c_long | c_lat | merchant_long_lat | m_long | m_lat |\n",
       "|---|---|---|---|---|---|\n",
       "| 153.41 -27.95 | 153.41        | -27.95        | 153.38 -27.99 | 153.38        | -27.99        |\n",
       "| 153.41 -27.95 | 153.41        | -27.95        | 151.21 -33.87 | 151.21        | -33.87        |\n",
       "| 151.23 -33.94 | 151.23        | -33.94        | 151.21 -33.87 | 151.21        | -33.87        |\n",
       "| 153.10 -27.66 | 153.10        | -27.66        | 153.05 -26.68 | 153.05        | -26.68        |\n",
       "| 153.41 -27.95 | 153.41        | -27.95        | 153.44 -28.06 | 153.44        | -28.06        |\n",
       "| 151.22 -33.87 | 151.22        | -33.87        | NA            |     NA        |     NA        |\n",
       "\n"
      ],
      "text/plain": [
       "  long_lat      c_long c_lat  merchant_long_lat m_long m_lat \n",
       "1 153.41 -27.95 153.41 -27.95 153.38 -27.99     153.38 -27.99\n",
       "2 153.41 -27.95 153.41 -27.95 151.21 -33.87     151.21 -33.87\n",
       "3 151.23 -33.94 151.23 -33.94 151.21 -33.87     151.21 -33.87\n",
       "4 153.10 -27.66 153.10 -27.66 153.05 -26.68     153.05 -26.68\n",
       "5 153.41 -27.95 153.41 -27.95 153.44 -28.06     153.44 -28.06\n",
       "6 151.22 -33.87 151.22 -33.87 NA                    NA     NA"
      ]
     },
     "metadata": {},
     "output_type": "display_data"
    }
   ],
   "source": [
    "head(df[, c(\"long_lat\", \"c_long\", \"c_lat\", \"merchant_long_lat\", \"m_long\", \"m_lat\")])"
   ]
  },
  {
   "cell_type": "code",
   "execution_count": 11,
   "metadata": {},
   "outputs": [
    {
     "data": {
      "text/html": [
       "1"
      ],
      "text/latex": [
       "1"
      ],
      "text/markdown": [
       "1"
      ],
      "text/plain": [
       "[1] 1"
      ]
     },
     "metadata": {},
     "output_type": "display_data"
    }
   ],
   "source": [
    "# Check the range of customer location\n",
    "# Filtering out transactions for those who do not reside in Australia\n",
    "df_temp = df %>% filter(!(c_long > 113 & c_long < 154 & c_lat > (-44) & c_lat < (-10)))\n",
    "length(unique(df_temp$customer_id))"
   ]
  },
  {
   "cell_type": "markdown",
   "metadata": {},
   "source": [
    "Location information suggests there is one customer who resides outside Australia. However, all of his/her transaction histories occured within Australia, therefore these records are included for further analysis. "
   ]
  },
  {
   "cell_type": "code",
   "execution_count": 12,
   "metadata": {},
   "outputs": [
    {
     "data": {
      "text/html": [
       "<dl class=dl-horizontal>\n",
       "\t<dt>status</dt>\n",
       "\t\t<dd>0</dd>\n",
       "\t<dt>card_present_flag</dt>\n",
       "\t\t<dd>4326</dd>\n",
       "\t<dt>bpay_biller_code</dt>\n",
       "\t\t<dd>11160</dd>\n",
       "\t<dt>account</dt>\n",
       "\t\t<dd>0</dd>\n",
       "\t<dt>currency</dt>\n",
       "\t\t<dd>0</dd>\n",
       "\t<dt>long_lat</dt>\n",
       "\t\t<dd>0</dd>\n",
       "\t<dt>txn_description</dt>\n",
       "\t\t<dd>0</dd>\n",
       "\t<dt>merchant_id</dt>\n",
       "\t\t<dd>4326</dd>\n",
       "\t<dt>merchant_code</dt>\n",
       "\t\t<dd>11160</dd>\n",
       "\t<dt>first_name</dt>\n",
       "\t\t<dd>0</dd>\n",
       "\t<dt>balance</dt>\n",
       "\t\t<dd>0</dd>\n",
       "\t<dt>date</dt>\n",
       "\t\t<dd>0</dd>\n",
       "\t<dt>gender</dt>\n",
       "\t\t<dd>0</dd>\n",
       "\t<dt>age</dt>\n",
       "\t\t<dd>0</dd>\n",
       "\t<dt>merchant_suburb</dt>\n",
       "\t\t<dd>4326</dd>\n",
       "\t<dt>merchant_state</dt>\n",
       "\t\t<dd>4326</dd>\n",
       "\t<dt>extraction</dt>\n",
       "\t\t<dd>0</dd>\n",
       "\t<dt>amount</dt>\n",
       "\t\t<dd>0</dd>\n",
       "\t<dt>transaction_id</dt>\n",
       "\t\t<dd>0</dd>\n",
       "\t<dt>country</dt>\n",
       "\t\t<dd>0</dd>\n",
       "\t<dt>customer_id</dt>\n",
       "\t\t<dd>0</dd>\n",
       "\t<dt>merchant_long_lat</dt>\n",
       "\t\t<dd>4326</dd>\n",
       "\t<dt>movement</dt>\n",
       "\t\t<dd>0</dd>\n",
       "\t<dt>hour</dt>\n",
       "\t\t<dd>0</dd>\n",
       "\t<dt>weekday</dt>\n",
       "\t\t<dd>0</dd>\n",
       "\t<dt>c_long</dt>\n",
       "\t\t<dd>0</dd>\n",
       "\t<dt>c_lat</dt>\n",
       "\t\t<dd>0</dd>\n",
       "\t<dt>m_long</dt>\n",
       "\t\t<dd>4326</dd>\n",
       "\t<dt>m_lat</dt>\n",
       "\t\t<dd>4326</dd>\n",
       "</dl>\n"
      ],
      "text/latex": [
       "\\begin{description*}\n",
       "\\item[status] 0\n",
       "\\item[card\\textbackslash{}\\_present\\textbackslash{}\\_flag] 4326\n",
       "\\item[bpay\\textbackslash{}\\_biller\\textbackslash{}\\_code] 11160\n",
       "\\item[account] 0\n",
       "\\item[currency] 0\n",
       "\\item[long\\textbackslash{}\\_lat] 0\n",
       "\\item[txn\\textbackslash{}\\_description] 0\n",
       "\\item[merchant\\textbackslash{}\\_id] 4326\n",
       "\\item[merchant\\textbackslash{}\\_code] 11160\n",
       "\\item[first\\textbackslash{}\\_name] 0\n",
       "\\item[balance] 0\n",
       "\\item[date] 0\n",
       "\\item[gender] 0\n",
       "\\item[age] 0\n",
       "\\item[merchant\\textbackslash{}\\_suburb] 4326\n",
       "\\item[merchant\\textbackslash{}\\_state] 4326\n",
       "\\item[extraction] 0\n",
       "\\item[amount] 0\n",
       "\\item[transaction\\textbackslash{}\\_id] 0\n",
       "\\item[country] 0\n",
       "\\item[customer\\textbackslash{}\\_id] 0\n",
       "\\item[merchant\\textbackslash{}\\_long\\textbackslash{}\\_lat] 4326\n",
       "\\item[movement] 0\n",
       "\\item[hour] 0\n",
       "\\item[weekday] 0\n",
       "\\item[c\\textbackslash{}\\_long] 0\n",
       "\\item[c\\textbackslash{}\\_lat] 0\n",
       "\\item[m\\textbackslash{}\\_long] 4326\n",
       "\\item[m\\textbackslash{}\\_lat] 4326\n",
       "\\end{description*}\n"
      ],
      "text/markdown": [
       "status\n",
       ":   0card_present_flag\n",
       ":   4326bpay_biller_code\n",
       ":   11160account\n",
       ":   0currency\n",
       ":   0long_lat\n",
       ":   0txn_description\n",
       ":   0merchant_id\n",
       ":   4326merchant_code\n",
       ":   11160first_name\n",
       ":   0balance\n",
       ":   0date\n",
       ":   0gender\n",
       ":   0age\n",
       ":   0merchant_suburb\n",
       ":   4326merchant_state\n",
       ":   4326extraction\n",
       ":   0amount\n",
       ":   0transaction_id\n",
       ":   0country\n",
       ":   0customer_id\n",
       ":   0merchant_long_lat\n",
       ":   4326movement\n",
       ":   0hour\n",
       ":   0weekday\n",
       ":   0c_long\n",
       ":   0c_lat\n",
       ":   0m_long\n",
       ":   4326m_lat\n",
       ":   4326\n",
       "\n"
      ],
      "text/plain": [
       "           status card_present_flag  bpay_biller_code           account \n",
       "                0              4326             11160                 0 \n",
       "         currency          long_lat   txn_description       merchant_id \n",
       "                0                 0                 0              4326 \n",
       "    merchant_code        first_name           balance              date \n",
       "            11160                 0                 0                 0 \n",
       "           gender               age   merchant_suburb    merchant_state \n",
       "                0                 0              4326              4326 \n",
       "       extraction            amount    transaction_id           country \n",
       "                0                 0                 0                 0 \n",
       "      customer_id merchant_long_lat          movement              hour \n",
       "                0              4326                 0                 0 \n",
       "          weekday            c_long             c_lat            m_long \n",
       "                0                 0                 0              4326 \n",
       "            m_lat \n",
       "             4326 "
      ]
     },
     "metadata": {},
     "output_type": "display_data"
    },
    {
     "data": {
      "text/html": [
       "<dl class=dl-horizontal>\n",
       "\t<dt>status</dt>\n",
       "\t\t<dd>2</dd>\n",
       "\t<dt>card_present_flag</dt>\n",
       "\t\t<dd>3</dd>\n",
       "\t<dt>bpay_biller_code</dt>\n",
       "\t\t<dd>2</dd>\n",
       "\t<dt>account</dt>\n",
       "\t\t<dd>100</dd>\n",
       "\t<dt>currency</dt>\n",
       "\t\t<dd>1</dd>\n",
       "\t<dt>long_lat</dt>\n",
       "\t\t<dd>100</dd>\n",
       "\t<dt>txn_description</dt>\n",
       "\t\t<dd>6</dd>\n",
       "\t<dt>merchant_id</dt>\n",
       "\t\t<dd>5726</dd>\n",
       "\t<dt>merchant_code</dt>\n",
       "\t\t<dd>2</dd>\n",
       "\t<dt>first_name</dt>\n",
       "\t\t<dd>80</dd>\n",
       "\t<dt>balance</dt>\n",
       "\t\t<dd>12006</dd>\n",
       "\t<dt>date</dt>\n",
       "\t\t<dd>91</dd>\n",
       "\t<dt>gender</dt>\n",
       "\t\t<dd>2</dd>\n",
       "\t<dt>age</dt>\n",
       "\t\t<dd>33</dd>\n",
       "\t<dt>merchant_suburb</dt>\n",
       "\t\t<dd>1610</dd>\n",
       "\t<dt>merchant_state</dt>\n",
       "\t\t<dd>9</dd>\n",
       "\t<dt>extraction</dt>\n",
       "\t\t<dd>9442</dd>\n",
       "\t<dt>amount</dt>\n",
       "\t\t<dd>4457</dd>\n",
       "\t<dt>transaction_id</dt>\n",
       "\t\t<dd>12043</dd>\n",
       "\t<dt>country</dt>\n",
       "\t\t<dd>1</dd>\n",
       "\t<dt>customer_id</dt>\n",
       "\t\t<dd>100</dd>\n",
       "\t<dt>merchant_long_lat</dt>\n",
       "\t\t<dd>2704</dd>\n",
       "\t<dt>movement</dt>\n",
       "\t\t<dd>2</dd>\n",
       "\t<dt>hour</dt>\n",
       "\t\t<dd>24</dd>\n",
       "\t<dt>weekday</dt>\n",
       "\t\t<dd>7</dd>\n",
       "\t<dt>c_long</dt>\n",
       "\t\t<dd>87</dd>\n",
       "\t<dt>c_lat</dt>\n",
       "\t\t<dd>85</dd>\n",
       "\t<dt>m_long</dt>\n",
       "\t\t<dd>719</dd>\n",
       "\t<dt>m_lat</dt>\n",
       "\t\t<dd>670</dd>\n",
       "</dl>\n"
      ],
      "text/latex": [
       "\\begin{description*}\n",
       "\\item[status] 2\n",
       "\\item[card\\textbackslash{}\\_present\\textbackslash{}\\_flag] 3\n",
       "\\item[bpay\\textbackslash{}\\_biller\\textbackslash{}\\_code] 2\n",
       "\\item[account] 100\n",
       "\\item[currency] 1\n",
       "\\item[long\\textbackslash{}\\_lat] 100\n",
       "\\item[txn\\textbackslash{}\\_description] 6\n",
       "\\item[merchant\\textbackslash{}\\_id] 5726\n",
       "\\item[merchant\\textbackslash{}\\_code] 2\n",
       "\\item[first\\textbackslash{}\\_name] 80\n",
       "\\item[balance] 12006\n",
       "\\item[date] 91\n",
       "\\item[gender] 2\n",
       "\\item[age] 33\n",
       "\\item[merchant\\textbackslash{}\\_suburb] 1610\n",
       "\\item[merchant\\textbackslash{}\\_state] 9\n",
       "\\item[extraction] 9442\n",
       "\\item[amount] 4457\n",
       "\\item[transaction\\textbackslash{}\\_id] 12043\n",
       "\\item[country] 1\n",
       "\\item[customer\\textbackslash{}\\_id] 100\n",
       "\\item[merchant\\textbackslash{}\\_long\\textbackslash{}\\_lat] 2704\n",
       "\\item[movement] 2\n",
       "\\item[hour] 24\n",
       "\\item[weekday] 7\n",
       "\\item[c\\textbackslash{}\\_long] 87\n",
       "\\item[c\\textbackslash{}\\_lat] 85\n",
       "\\item[m\\textbackslash{}\\_long] 719\n",
       "\\item[m\\textbackslash{}\\_lat] 670\n",
       "\\end{description*}\n"
      ],
      "text/markdown": [
       "status\n",
       ":   2card_present_flag\n",
       ":   3bpay_biller_code\n",
       ":   2account\n",
       ":   100currency\n",
       ":   1long_lat\n",
       ":   100txn_description\n",
       ":   6merchant_id\n",
       ":   5726merchant_code\n",
       ":   2first_name\n",
       ":   80balance\n",
       ":   12006date\n",
       ":   91gender\n",
       ":   2age\n",
       ":   33merchant_suburb\n",
       ":   1610merchant_state\n",
       ":   9extraction\n",
       ":   9442amount\n",
       ":   4457transaction_id\n",
       ":   12043country\n",
       ":   1customer_id\n",
       ":   100merchant_long_lat\n",
       ":   2704movement\n",
       ":   2hour\n",
       ":   24weekday\n",
       ":   7c_long\n",
       ":   87c_lat\n",
       ":   85m_long\n",
       ":   719m_lat\n",
       ":   670\n",
       "\n"
      ],
      "text/plain": [
       "           status card_present_flag  bpay_biller_code           account \n",
       "                2                 3                 2               100 \n",
       "         currency          long_lat   txn_description       merchant_id \n",
       "                1               100                 6              5726 \n",
       "    merchant_code        first_name           balance              date \n",
       "                2                80             12006                91 \n",
       "           gender               age   merchant_suburb    merchant_state \n",
       "                2                33              1610                 9 \n",
       "       extraction            amount    transaction_id           country \n",
       "             9442              4457             12043                 1 \n",
       "      customer_id merchant_long_lat          movement              hour \n",
       "              100              2704                 2                24 \n",
       "          weekday            c_long             c_lat            m_long \n",
       "                7                87                85               719 \n",
       "            m_lat \n",
       "              670 "
      ]
     },
     "metadata": {},
     "output_type": "display_data"
    }
   ],
   "source": [
    "# Check the distribution of missing values\n",
    "apply(df, 2, function(x) sum(is.na(x) | x == \"\"))\n",
    "\n",
    "# Check the number of unique values for each column\n",
    "apply(df, 2, function(x) length(unique(x)))"
   ]
  },
  {
   "cell_type": "markdown",
   "metadata": {},
   "source": [
    "# Gather some interesting overall insights about the data"
   ]
  },
  {
   "cell_type": "code",
   "execution_count": 13,
   "metadata": {},
   "outputs": [
    {
     "data": {
      "text/plain": [
       "    status          card_present_flag bpay_biller_code   account         \n",
       " Length:7717        Min.   :0.0000    Min.   : NA      Length:7717       \n",
       " Class :character   1st Qu.:1.0000    1st Qu.: NA      Class :character  \n",
       " Mode  :character   Median :1.0000    Median : NA      Mode  :character  \n",
       "                    Mean   :0.8026    Mean   :NaN                        \n",
       "                    3rd Qu.:1.0000    3rd Qu.: NA                        \n",
       "                    Max.   :1.0000    Max.   : NA                        \n",
       "                                      NA's   :7717                       \n",
       "   currency           long_lat         txn_description    merchant_id       \n",
       " Length:7717        Length:7717        Length:7717        Length:7717       \n",
       " Class :character   Class :character   Class :character   Class :character  \n",
       " Mode  :character   Mode  :character   Mode  :character   Mode  :character  \n",
       "                                                                            \n",
       "                                                                            \n",
       "                                                                            \n",
       "                                                                            \n",
       " merchant_code   first_name           balance               date           \n",
       " Min.   : NA    Length:7717        Min.   :     0.24   Min.   :2018-08-01  \n",
       " 1st Qu.: NA    Class :character   1st Qu.:  2723.89   1st Qu.:2018-08-24  \n",
       " Median : NA    Mode  :character   Median :  5286.04   Median :2018-09-16  \n",
       " Mean   :NaN                       Mean   : 11871.06   Mean   :2018-09-15  \n",
       " 3rd Qu.: NA                       3rd Qu.: 10278.29   3rd Qu.:2018-10-08  \n",
       " Max.   : NA                       Max.   :267093.66   Max.   :2018-10-31  \n",
       " NA's   :7717                                                              \n",
       "    gender               age        merchant_suburb    merchant_state    \n",
       " Length:7717        Min.   :18.00   Length:7717        Length:7717       \n",
       " Class :character   1st Qu.:23.00   Class :character   Class :character  \n",
       " Mode  :character   Median :27.00   Mode  :character   Mode  :character  \n",
       "                    Mean   :30.05                                        \n",
       "                    3rd Qu.:38.00                                        \n",
       "                    Max.   :78.00                                        \n",
       "                                                                         \n",
       "  extraction            amount        transaction_id       country         \n",
       " Length:7717        Min.   :   0.10   Length:7717        Length:7717       \n",
       " Class :character   1st Qu.:  12.08   Class :character   Class :character  \n",
       " Mode  :character   Median :  19.70   Mode  :character   Mode  :character  \n",
       "                    Mean   :  40.15                                        \n",
       "                    3rd Qu.:  33.91                                        \n",
       "                    Max.   :7081.09                                        \n",
       "                                                                           \n",
       " customer_id        merchant_long_lat    movement              hour      \n",
       " Length:7717        Length:7717        Length:7717        Min.   : 0.00  \n",
       " Class :character   Class :character   Class :character   1st Qu.: 9.00  \n",
       " Mode  :character   Mode  :character   Mode  :character   Median :14.00  \n",
       "                                                          Mean   :13.41  \n",
       "                                                          3rd Qu.:19.00  \n",
       "                                                          Max.   :23.00  \n",
       "                                                                         \n",
       "   weekday              c_long          c_lat             m_long     \n",
       " Length:7717        Min.   :114.6   Min.   :-573.00   Min.   :113.8  \n",
       " Class :character   1st Qu.:138.7   1st Qu.: -37.58   1st Qu.:144.7  \n",
       " Mode  :character   Median :145.7   Median : -33.78   Median :145.8  \n",
       "                    Mean   :143.8   Mean   : -37.68   Mean   :143.4  \n",
       "                    3rd Qu.:151.2   3rd Qu.: -27.95   3rd Qu.:151.2  \n",
       "                    Max.   :255.0   Max.   : -12.37   Max.   :153.6  \n",
       "                                                                     \n",
       "     m_lat       \n",
       " Min.   :-43.31  \n",
       " 1st Qu.:-37.71  \n",
       " Median :-33.84  \n",
       " Mean   :-32.75  \n",
       " 3rd Qu.:-29.44  \n",
       " Max.   :-12.33  \n",
       "                 "
      ]
     },
     "metadata": {},
     "output_type": "display_data"
    }
   ],
   "source": [
    "# Filter out purchase transactions only\n",
    "# Assuming purchase transactions must be associated with a merchant (have a merchant id)\n",
    "df_temp = df %>% filter(merchant_id != \"\")\n",
    "\n",
    "# It turned out that is equivalent to excluding following categories of transactions\n",
    "df_csmp = df %>% filter(!(txn_description %in% c(\"PAY/SALARY\", \"INTER BANK\", \"PHONE BANK\", \"PAYMENT\")))\n",
    "\n",
    "summary(df_csmp)"
   ]
  },
  {
   "cell_type": "code",
   "execution_count": 14,
   "metadata": {},
   "outputs": [
    {
     "data": {
      "image/png": "[encoded data removed]",
      "text/plain": [
       "Plot with title \"Histogram of purchase transaction amount\""
      ]
     },
     "metadata": {},
     "output_type": "display_data"
    }
   ],
   "source": [
    "# Visualise the distribution of transaction amount\n",
    "hist(df_csmp$amount[!df_csmp$amount %in% boxplot.stats(df_csmp$amount)$out], xlab = \"Transaction amount\", main = \"Histogram of purchase transaction amount\")"
   ]
  },
  {
   "cell_type": "code",
   "execution_count": 15,
   "metadata": {},
   "outputs": [
    {
     "data": {
      "image/png": "[encoded data removed]",
      "text/plain": [
       "Plot with title \"Histogram of overall transaction amount\""
      ]
     },
     "metadata": {},
     "output_type": "display_data"
    }
   ],
   "source": [
    "hist(df$amount[!df$amount %in% boxplot.stats(df$amount)$out], xlab = \"Transaction amount\", main = \"Histogram of overall transaction amount\")"
   ]
  },
  {
   "cell_type": "code",
   "execution_count": 16,
   "metadata": {},
   "outputs": [
    {
     "data": {
      "image/png": "[encoded data removed]",
      "text/plain": [
       "Plot with title \"Histogram of customers' monthly transaction volume\""
      ]
     },
     "metadata": {},
     "output_type": "display_data"
    }
   ],
   "source": [
    "# Visualise customers' average monthly transaction volume\n",
    "df2 = df %>% group_by(customer_id) %>% summarise(mon_avg_vol = round(n()/3, 0))\n",
    "hist(df2$mon_avg_vol, xlab = \"Monthly transaction volume\", ylab = \"Number of customers\", main = \"Histogram of customers' monthly transaction volume\")"
   ]
  },
  {
   "cell_type": "code",
   "execution_count": 17,
   "metadata": {},
   "outputs": [
    {
     "data": {
      "image/png": "[encoded data removed]",
      "text/plain": [
       "plot without title"
      ]
     },
     "metadata": {},
     "output_type": "display_data"
    }
   ],
   "source": [
    "# Visualise transaction volume over an average week\n",
    "\n",
    "df3 = df %>% select(date, weekday) %>% group_by(date, weekday) %>% summarise(daily_avg_vol = n()) %>% group_by(weekday) %>% summarise(avg_vol = mean(daily_avg_vol, na.rm = TRUE))\n",
    "df3$weekday = factor(df3$weekday, levels = c(\"Monday\", \"Tuesday\", \"Wednesday\", \"Thursday\", \"Friday\", \"Saturday\", \"Sunday\"))\n",
    "ggplot(df3, aes(x = weekday, y = avg_vol)) + geom_point() + geom_line(aes(group = 1)) + ggtitle(\"Average transaction volume by weekday\") + labs(x = \"Weekday\", y = \"Transaction volume\")"
   ]
  },
  {
   "cell_type": "code",
   "execution_count": 18,
   "metadata": {
    "scrolled": true
   },
   "outputs": [
    {
     "data": {
      "image/png": "[encoded data removed]",
      "text/plain": [
       "plot without title"
      ]
     },
     "metadata": {},
     "output_type": "display_data"
    }
   ],
   "source": [
    "# Visualise transaction volume over an average week.\n",
    "df4 <- df %>% select(date,hour) %>% group_by(date,hour) %>% summarize(trans_vol=n()) %>% group_by(hour) %>% summarize(trans_vol_per_hr = mean(trans_vol,na.rm=TRUE))\n",
    "\n",
    "ggplot(df4, aes(x = hour, y=trans_vol_per_hr)) + geom_point() + geom_line(aes(group = 1)) + ggtitle(\"Average transaction volume by hour\") + labs(x = \"Hour\", y = \"Transaction volume\") + expand_limits(y = 0)"
   ]
  },
  {
   "cell_type": "code",
   "execution_count": 19,
   "metadata": {},
   "outputs": [],
   "source": [
    "# Check the salary payment frequency of each customer\n",
    "df_inc = data.frame(customer_id = unique(df_csmp$customer_id))\n",
    "\n",
    "# Create a mode function that will be used to find out what is the salary payment frequency\n",
    "Mode = function(x){\n",
    "    ux = unique(x)\n",
    "    ux[which.max(tabulate(match(x, ux)))]\n",
    "}\n",
    "\n",
    "# Loop through all salary payments for each customer\n",
    "# Assume the salary level is constant for each customer over the observed period\n",
    "for (i in seq(nrow(df_inc))){\n",
    "    trans_data = df[df$customer_id == df_inc$customer_id[i] & df$txn_description == \"PAY/SALARY\", c(\"amount\", \"date\")] %>% group_by(date) %>% summarise(amount = sum(amount))\n",
    "    total_s = sum(trans_data$amount)\n",
    "    count = dim(trans_data)[1]\n",
    "    if (count == 0){\n",
    "        df_inc$freq[i] = NA\n",
    "        df_inc$level[i] = NA\n",
    "    } else {\n",
    "        s = c()\n",
    "        lvl = c()\n",
    "        for (j in seq(count - 1)){\n",
    "            s = c(s, (trans_data$date[j+1] - trans_data$date[j]))\n",
    "            lvl = c(lvl, trans_data$amount[j]) \n",
    "        }\n",
    "        lvl = c(lvl, tail(trans_data$amount, n = 1))\n",
    "        df_inc$freq[i] = Mode(s)\n",
    "        df_inc$level[i] = Mode(lvl)\n",
    "    }\n",
    "}\n",
    "\n",
    "df_inc$annual_salary = df_inc$level / df_inc$freq * 365.25"
   ]
  },
  {
   "cell_type": "code",
   "execution_count": 20,
   "metadata": {},
   "outputs": [
    {
     "data": {
      "text/html": [
       "<table>\n",
       "<thead><tr><th scope=col>customer_id</th><th scope=col>freq</th><th scope=col>level</th><th scope=col>annual_salary</th></tr></thead>\n",
       "<tbody>\n",
       "\t<tr><td>CUS-2487424745</td><td> 7            </td><td>1013.67       </td><td>52891.85      </td></tr>\n",
       "\t<tr><td>CUS-2142601169</td><td> 7            </td><td>1002.13       </td><td>52289.71      </td></tr>\n",
       "\t<tr><td>CUS-1614226872</td><td> 7            </td><td> 892.09       </td><td>46547.98      </td></tr>\n",
       "\t<tr><td>CUS-4123612273</td><td> 7            </td><td>1068.04       </td><td>55728.80      </td></tr>\n",
       "\t<tr><td>CUS-3026014945</td><td>14            </td><td>2840.15       </td><td>74097.48      </td></tr>\n",
       "\t<tr><td>CUS-860700529 </td><td>14            </td><td>1808.62       </td><td>47185.60      </td></tr>\n",
       "</tbody>\n",
       "</table>\n"
      ],
      "text/latex": [
       "\\begin{tabular}{r|llll}\n",
       " customer\\_id & freq & level & annual\\_salary\\\\\n",
       "\\hline\n",
       "\t CUS-2487424745 &  7             & 1013.67        & 52891.85      \\\\\n",
       "\t CUS-2142601169 &  7             & 1002.13        & 52289.71      \\\\\n",
       "\t CUS-1614226872 &  7             &  892.09        & 46547.98      \\\\\n",
       "\t CUS-4123612273 &  7             & 1068.04        & 55728.80      \\\\\n",
       "\t CUS-3026014945 & 14             & 2840.15        & 74097.48      \\\\\n",
       "\t CUS-860700529  & 14             & 1808.62        & 47185.60      \\\\\n",
       "\\end{tabular}\n"
      ],
      "text/markdown": [
       "\n",
       "| customer_id | freq | level | annual_salary |\n",
       "|---|---|---|---|\n",
       "| CUS-2487424745 |  7             | 1013.67        | 52891.85       |\n",
       "| CUS-2142601169 |  7             | 1002.13        | 52289.71       |\n",
       "| CUS-1614226872 |  7             |  892.09        | 46547.98       |\n",
       "| CUS-4123612273 |  7             | 1068.04        | 55728.80       |\n",
       "| CUS-3026014945 | 14             | 2840.15        | 74097.48       |\n",
       "| CUS-860700529  | 14             | 1808.62        | 47185.60       |\n",
       "\n"
      ],
      "text/plain": [
       "  customer_id    freq level   annual_salary\n",
       "1 CUS-2487424745  7   1013.67 52891.85     \n",
       "2 CUS-2142601169  7   1002.13 52289.71     \n",
       "3 CUS-1614226872  7    892.09 46547.98     \n",
       "4 CUS-4123612273  7   1068.04 55728.80     \n",
       "5 CUS-3026014945 14   2840.15 74097.48     \n",
       "6 CUS-860700529  14   1808.62 47185.60     "
      ]
     },
     "metadata": {},
     "output_type": "display_data"
    }
   ],
   "source": [
    "head(df_inc)"
   ]
  },
  {
   "cell_type": "code",
   "execution_count": 21,
   "metadata": {},
   "outputs": [
    {
     "data": {
      "image/png": "[encoded data removed]",
      "text/plain": [
       "Plot with title \"Histogram of customers' annual salary\""
      ]
     },
     "metadata": {},
     "output_type": "display_data"
    }
   ],
   "source": [
    "# Visualise the distribution of customers' annual salary\n",
    "hist(df_inc$annual_salary[!is.na(df_inc$annual_salary)], breaks = c(seq(28000, 140000, by = 10000)), main = \"Histogram of customers' annual salary\", xlab = \"Income ($)\")"
   ]
  },
  {
   "cell_type": "markdown",
   "metadata": {},
   "source": [
    "# Feature engineering"
   ]
  },
  {
   "cell_type": "code",
   "execution_count": 22,
   "metadata": {},
   "outputs": [],
   "source": [
    "# Create a dataframe to store relevant features for customers\n",
    "df_cus = df_csmp %>% select(customer_id, gender, age, amount, date, balance) %>% group_by(customer_id) %>% mutate(avg_no_weekly_trans = round(7*n()/length(unique(df$date)), 0), max_amt = max(amount), no_large_trans = sum(amount > 100), use_no_day = length(unique(date)), avg_trans_amt = mean(amount, na.rm = TRUE), med_bal = median(balance, na.rm = TRUE)) %>% select(-c(\"amount\", \"date\", \"balance\")) %>% unique() \n",
    "\n",
    "# Create additional features\n",
    "df_cus$age_below20 = ifelse(df_cus$age < 20, 1, 0)\n",
    "df_cus$age_btw20n40 = ifelse(df_cus$age >= 20 & df_cus$age < 40, 1, 0)\n",
    "df_cus$age_btw40n60 = ifelse(df_cus$age >= 40 & df_cus$age < 60, 1, 0)"
   ]
  },
  {
   "cell_type": "code",
   "execution_count": 23,
   "metadata": {},
   "outputs": [
    {
     "data": {
      "text/html": [
       "<table>\n",
       "<thead><tr><th scope=col>customer_id</th><th scope=col>State</th></tr></thead>\n",
       "<tbody>\n",
       "\t<tr><td>CUS-1005756958</td><td>QLD           </td></tr>\n",
       "\t<tr><td>CUS-1117979751</td><td>WA            </td></tr>\n",
       "\t<tr><td>CUS-1140341822</td><td>VIC           </td></tr>\n",
       "\t<tr><td>CUS-1147642491</td><td>NSW           </td></tr>\n",
       "\t<tr><td>CUS-1196156254</td><td>SA            </td></tr>\n",
       "\t<tr><td>CUS-1220154422</td><td>NSW           </td></tr>\n",
       "</tbody>\n",
       "</table>\n"
      ],
      "text/latex": [
       "\\begin{tabular}{r|ll}\n",
       " customer\\_id & State\\\\\n",
       "\\hline\n",
       "\t CUS-1005756958 & QLD           \\\\\n",
       "\t CUS-1117979751 & WA            \\\\\n",
       "\t CUS-1140341822 & VIC           \\\\\n",
       "\t CUS-1147642491 & NSW           \\\\\n",
       "\t CUS-1196156254 & SA            \\\\\n",
       "\t CUS-1220154422 & NSW           \\\\\n",
       "\\end{tabular}\n"
      ],
      "text/markdown": [
       "\n",
       "| customer_id | State |\n",
       "|---|---|\n",
       "| CUS-1005756958 | QLD            |\n",
       "| CUS-1117979751 | WA             |\n",
       "| CUS-1140341822 | VIC            |\n",
       "| CUS-1147642491 | NSW            |\n",
       "| CUS-1196156254 | SA             |\n",
       "| CUS-1220154422 | NSW            |\n",
       "\n"
      ],
      "text/plain": [
       "  customer_id    State\n",
       "1 CUS-1005756958 QLD  \n",
       "2 CUS-1117979751 WA   \n",
       "3 CUS-1140341822 VIC  \n",
       "4 CUS-1147642491 NSW  \n",
       "5 CUS-1196156254 SA   \n",
       "6 CUS-1220154422 NSW  "
      ]
     },
     "metadata": {},
     "output_type": "display_data"
    }
   ],
   "source": [
    "# Investigate the state where customers live\n",
    "# Assume they live where most transactions occured\n",
    "df_region = df_csmp %>% group_by(customer_id, merchant_state) %>% summarise(trans_count = n()) %>% group_by(customer_id) %>% mutate(no_state = n()) %>% filter(trans_count == max(trans_count))\n",
    "\n",
    "# For equal number of transactions between multiple states, pick the most likely state\n",
    "n_occur = data.frame(table(df_region$customer_id))\n",
    "cus_id_rep = n_occur$Var1[n_occur$Freq > 1]\n",
    "\n",
    "state_by_cust_no = rev(names(sort(table(df_region$merchant_state), rev = TRUE)))\n",
    "t = data.frame(customer_id = cus_id_rep, merchant_state = NA)\n",
    "\n",
    "for (i in seq(length(cus_id_rep))){\n",
    "    s = df_region$merchant_state[df_region$customer_id == cus_id_rep[i]]\n",
    "    for (state in state_by_cust_no){\n",
    "        if (state %in% s){\n",
    "            t[i, 2] = state\n",
    "            break\n",
    "        }\n",
    "    }\n",
    "}\n",
    "\n",
    "df_region <- df_region[!(df_region$customer_id %in% cus_id_rep), c(1,2)] %>% as.data.frame() %>% rbind(t) %>% rename(State = merchant_state)\n",
    "\n",
    "head(df_region)"
   ]
  },
  {
   "cell_type": "code",
   "execution_count": 24,
   "metadata": {},
   "outputs": [
    {
     "data": {
      "text/html": [
       "<table>\n",
       "<thead><tr><th scope=col>customer_id</th><th scope=col>gender</th><th scope=col>age</th><th scope=col>avg_no_weekly_trans</th><th scope=col>max_amt</th><th scope=col>no_large_trans</th><th scope=col>use_no_day</th><th scope=col>avg_trans_amt</th><th scope=col>med_bal</th><th scope=col>age_below20</th><th scope=col>age_btw20n40</th><th scope=col>age_btw40n60</th><th scope=col>freq</th><th scope=col>level</th><th scope=col>annual_salary</th><th scope=col>State</th></tr></thead>\n",
       "<tbody>\n",
       "\t<tr><td>CUS-1005756958</td><td>F             </td><td>53            </td><td> 4            </td><td> 226.82       </td><td> 4            </td><td>25            </td><td>37.72625      </td><td> 1054.965     </td><td>0             </td><td>0             </td><td>1             </td><td> 7            </td><td> 970.47       </td><td> 50637.74     </td><td>QLD           </td></tr>\n",
       "\t<tr><td>CUS-1117979751</td><td>M             </td><td>21            </td><td> 4            </td><td>2885.85       </td><td> 1            </td><td>31            </td><td>76.45808      </td><td> 8444.820     </td><td>0             </td><td>1             </td><td>0             </td><td>14            </td><td>3578.65       </td><td> 93364.42     </td><td>WA            </td></tr>\n",
       "\t<tr><td>CUS-1140341822</td><td>M             </td><td>28            </td><td> 5            </td><td>1271.46       </td><td> 5            </td><td>33            </td><td>67.53138      </td><td> 6820.260     </td><td>0             </td><td>1             </td><td>0             </td><td>14            </td><td>1916.51       </td><td> 50000.38     </td><td>VIC           </td></tr>\n",
       "\t<tr><td>CUS-1147642491</td><td>F             </td><td>34            </td><td> 6            </td><td> 432.92       </td><td> 5            </td><td>39            </td><td>51.12829      </td><td> 9572.950     </td><td>0             </td><td>1             </td><td>0             </td><td> 7            </td><td>1711.39       </td><td> 89297.89     </td><td>NSW           </td></tr>\n",
       "\t<tr><td>CUS-1196156254</td><td>F             </td><td>34            </td><td>13            </td><td> 390.67       </td><td> 6            </td><td>65            </td><td>30.31049      </td><td>22055.110     </td><td>0             </td><td>1             </td><td>0             </td><td>14            </td><td>3903.73       </td><td>101845.53     </td><td>SA            </td></tr>\n",
       "\t<tr><td>CUS-1220154422</td><td>F             </td><td>25            </td><td> 4            </td><td> 168.74       </td><td>13            </td><td>34            </td><td>65.92896      </td><td> 8476.365     </td><td>0             </td><td>1             </td><td>0             </td><td>14            </td><td>2282.36       </td><td> 59545.14     </td><td>NSW           </td></tr>\n",
       "</tbody>\n",
       "</table>\n"
      ],
      "text/latex": [
       "\\begin{tabular}{r|llllllllllllllll}\n",
       " customer\\_id & gender & age & avg\\_no\\_weekly\\_trans & max\\_amt & no\\_large\\_trans & use\\_no\\_day & avg\\_trans\\_amt & med\\_bal & age\\_below20 & age\\_btw20n40 & age\\_btw40n60 & freq & level & annual\\_salary & State\\\\\n",
       "\\hline\n",
       "\t CUS-1005756958 & F              & 53             &  4             &  226.82        &  4             & 25             & 37.72625       &  1054.965      & 0              & 0              & 1              &  7             &  970.47        &  50637.74      & QLD           \\\\\n",
       "\t CUS-1117979751 & M              & 21             &  4             & 2885.85        &  1             & 31             & 76.45808       &  8444.820      & 0              & 1              & 0              & 14             & 3578.65        &  93364.42      & WA            \\\\\n",
       "\t CUS-1140341822 & M              & 28             &  5             & 1271.46        &  5             & 33             & 67.53138       &  6820.260      & 0              & 1              & 0              & 14             & 1916.51        &  50000.38      & VIC           \\\\\n",
       "\t CUS-1147642491 & F              & 34             &  6             &  432.92        &  5             & 39             & 51.12829       &  9572.950      & 0              & 1              & 0              &  7             & 1711.39        &  89297.89      & NSW           \\\\\n",
       "\t CUS-1196156254 & F              & 34             & 13             &  390.67        &  6             & 65             & 30.31049       & 22055.110      & 0              & 1              & 0              & 14             & 3903.73        & 101845.53      & SA            \\\\\n",
       "\t CUS-1220154422 & F              & 25             &  4             &  168.74        & 13             & 34             & 65.92896       &  8476.365      & 0              & 1              & 0              & 14             & 2282.36        &  59545.14      & NSW           \\\\\n",
       "\\end{tabular}\n"
      ],
      "text/markdown": [
       "\n",
       "| customer_id | gender | age | avg_no_weekly_trans | max_amt | no_large_trans | use_no_day | avg_trans_amt | med_bal | age_below20 | age_btw20n40 | age_btw40n60 | freq | level | annual_salary | State |\n",
       "|---|---|---|---|---|---|---|---|---|---|---|---|---|---|---|---|\n",
       "| CUS-1005756958 | F              | 53             |  4             |  226.82        |  4             | 25             | 37.72625       |  1054.965      | 0              | 0              | 1              |  7             |  970.47        |  50637.74      | QLD            |\n",
       "| CUS-1117979751 | M              | 21             |  4             | 2885.85        |  1             | 31             | 76.45808       |  8444.820      | 0              | 1              | 0              | 14             | 3578.65        |  93364.42      | WA             |\n",
       "| CUS-1140341822 | M              | 28             |  5             | 1271.46        |  5             | 33             | 67.53138       |  6820.260      | 0              | 1              | 0              | 14             | 1916.51        |  50000.38      | VIC            |\n",
       "| CUS-1147642491 | F              | 34             |  6             |  432.92        |  5             | 39             | 51.12829       |  9572.950      | 0              | 1              | 0              |  7             | 1711.39        |  89297.89      | NSW            |\n",
       "| CUS-1196156254 | F              | 34             | 13             |  390.67        |  6             | 65             | 30.31049       | 22055.110      | 0              | 1              | 0              | 14             | 3903.73        | 101845.53      | SA             |\n",
       "| CUS-1220154422 | F              | 25             |  4             |  168.74        | 13             | 34             | 65.92896       |  8476.365      | 0              | 1              | 0              | 14             | 2282.36        |  59545.14      | NSW            |\n",
       "\n"
      ],
      "text/plain": [
       "  customer_id    gender age avg_no_weekly_trans max_amt no_large_trans\n",
       "1 CUS-1005756958 F      53   4                   226.82  4            \n",
       "2 CUS-1117979751 M      21   4                  2885.85  1            \n",
       "3 CUS-1140341822 M      28   5                  1271.46  5            \n",
       "4 CUS-1147642491 F      34   6                   432.92  5            \n",
       "5 CUS-1196156254 F      34  13                   390.67  6            \n",
       "6 CUS-1220154422 F      25   4                   168.74 13            \n",
       "  use_no_day avg_trans_amt med_bal   age_below20 age_btw20n40 age_btw40n60 freq\n",
       "1 25         37.72625       1054.965 0           0            1             7  \n",
       "2 31         76.45808       8444.820 0           1            0            14  \n",
       "3 33         67.53138       6820.260 0           1            0            14  \n",
       "4 39         51.12829       9572.950 0           1            0             7  \n",
       "5 65         30.31049      22055.110 0           1            0            14  \n",
       "6 34         65.92896       8476.365 0           1            0            14  \n",
       "  level   annual_salary State\n",
       "1  970.47  50637.74     QLD  \n",
       "2 3578.65  93364.42     WA   \n",
       "3 1916.51  50000.38     VIC  \n",
       "4 1711.39  89297.89     NSW  \n",
       "5 3903.73 101845.53     SA   \n",
       "6 2282.36  59545.14     NSW  "
      ]
     },
     "metadata": {},
     "output_type": "display_data"
    }
   ],
   "source": [
    "# Merge all the features into a single dataframe\n",
    "df_cus = df_cus %>% merge(df_inc) %>% merge(df_region)\n",
    "head(df_cus)"
   ]
  },
  {
   "cell_type": "markdown",
   "metadata": {},
   "source": [
    "# Build a simple regression model to predict the annual salary for each customer"
   ]
  },
  {
   "cell_type": "code",
   "execution_count": 25,
   "metadata": {},
   "outputs": [
    {
     "data": {
      "text/plain": [
       "\n",
       "Call:\n",
       "lm(formula = annual_salary ~ . - customer_id - level - freq, \n",
       "    data = df_cus)\n",
       "\n",
       "Residuals:\n",
       "   Min     1Q Median     3Q    Max \n",
       "-36365 -17552  -4231  13235  68180 \n",
       "\n",
       "Coefficients:\n",
       "                      Estimate Std. Error t value Pr(>|t|)  \n",
       "(Intercept)         -5.461e+03  3.910e+04  -0.140   0.8893  \n",
       "genderM              4.668e+03  5.581e+03   0.837   0.4053  \n",
       "age                  7.133e+02  4.938e+02   1.444   0.1524  \n",
       "avg_no_weekly_trans -8.705e+02  9.622e+02  -0.905   0.3682  \n",
       "max_amt              2.013e+00  3.787e+00   0.532   0.5964  \n",
       "no_large_trans       5.850e+02  1.108e+03   0.528   0.5989  \n",
       "use_no_day           7.104e+01  3.292e+02   0.216   0.8297  \n",
       "avg_trans_amt       -1.905e+02  1.270e+02  -1.500   0.1375  \n",
       "med_bal              1.624e-01  8.231e-02   1.973   0.0518 .\n",
       "age_below20          6.522e+04  3.147e+04   2.072   0.0413 *\n",
       "age_btw20n40         5.701e+04  2.663e+04   2.141   0.0352 *\n",
       "age_btw40n60         4.615e+04  2.140e+04   2.157   0.0339 *\n",
       "StateNT              1.003e+04  1.999e+04   0.502   0.6173  \n",
       "StateQLD             4.012e+02  1.084e+04   0.037   0.9706  \n",
       "StateSA             -8.225e+03  1.181e+04  -0.696   0.4882  \n",
       "StateVIC            -3.717e+03  6.670e+03  -0.557   0.5788  \n",
       "StateWA              6.052e+03  8.864e+03   0.683   0.4967  \n",
       "---\n",
       "Signif. codes:  0 '***' 0.001 '**' 0.01 '*' 0.05 '.' 0.1 ' ' 1\n",
       "\n",
       "Residual standard error: 25330 on 83 degrees of freedom\n",
       "Multiple R-squared:  0.1506,\tAdjusted R-squared:  -0.01314 \n",
       "F-statistic: 0.9198 on 16 and 83 DF,  p-value: 0.55\n"
      ]
     },
     "metadata": {},
     "output_type": "display_data"
    }
   ],
   "source": [
    "fit1 = lm(annual_salary ~. - customer_id - level - freq, data = df_cus)\n",
    "summary(fit1)"
   ]
  },
  {
   "cell_type": "code",
   "execution_count": 26,
   "metadata": {},
   "outputs": [
    {
     "name": "stdout",
     "output_type": "stream",
     "text": [
      "Start:  AIC=2043.34\n",
      "annual_salary ~ (customer_id + gender + age + avg_no_weekly_trans + \n",
      "    max_amt + no_large_trans + use_no_day + avg_trans_amt + med_bal + \n",
      "    age_below20 + age_btw20n40 + age_btw40n60 + freq + level + \n",
      "    State) - customer_id - level - freq\n",
      "\n",
      "                      Df  Sum of Sq        RSS    AIC\n",
      "- State                5 1409188476 5.4675e+10 2036.0\n",
      "- use_no_day           1   29889747 5.3296e+10 2041.4\n",
      "- no_large_trans       1  178928443 5.3445e+10 2041.7\n",
      "- max_amt              1  181364785 5.3447e+10 2041.7\n",
      "- gender               1  449087243 5.3715e+10 2042.2\n",
      "- avg_no_weekly_trans  1  525283699 5.3791e+10 2042.3\n",
      "<none>                              5.3266e+10 2043.3\n",
      "- age                  1 1338998926 5.4605e+10 2043.8\n",
      "- avg_trans_amt        1 1443399306 5.4709e+10 2044.0\n",
      "- med_bal              1 2498044638 5.5764e+10 2045.9\n",
      "- age_below20          1 2756070370 5.6022e+10 2046.4\n",
      "- age_btw20n40         1 2941567603 5.6208e+10 2046.7\n",
      "- age_btw40n60         1 2984866812 5.6251e+10 2046.8\n",
      "\n",
      "Step:  AIC=2035.95\n",
      "annual_salary ~ gender + age + avg_no_weekly_trans + max_amt + \n",
      "    no_large_trans + use_no_day + avg_trans_amt + med_bal + age_below20 + \n",
      "    age_btw20n40 + age_btw40n60\n",
      "\n",
      "                      Df  Sum of Sq        RSS    AIC\n",
      "- use_no_day           1   32525200 5.4708e+10 2034.0\n",
      "- no_large_trans       1  277837666 5.4953e+10 2034.5\n",
      "- max_amt              1  410237277 5.5085e+10 2034.7\n",
      "- avg_no_weekly_trans  1  557306627 5.5233e+10 2035.0\n",
      "- gender               1  657168851 5.5332e+10 2035.2\n",
      "<none>                              5.4675e+10 2036.0\n",
      "- age                  1 1411231861 5.6086e+10 2036.5\n",
      "- avg_trans_amt        1 1665356438 5.6341e+10 2037.0\n",
      "- med_bal              1 2403969266 5.7079e+10 2038.2\n",
      "- age_below20          1 3209856901 5.7885e+10 2039.7\n",
      "- age_btw20n40         1 3386009505 5.8061e+10 2040.0\n",
      "- age_btw40n60         1 3470570275 5.8146e+10 2040.1\n",
      "\n",
      "Step:  AIC=2034.01\n",
      "annual_salary ~ gender + age + avg_no_weekly_trans + max_amt + \n",
      "    no_large_trans + avg_trans_amt + med_bal + age_below20 + \n",
      "    age_btw20n40 + age_btw40n60\n",
      "\n",
      "                      Df  Sum of Sq        RSS    AIC\n",
      "- no_large_trans       1  441927188 5.5150e+10 2032.8\n",
      "- max_amt              1  534050281 5.5242e+10 2033.0\n",
      "- gender               1  679175406 5.5387e+10 2033.2\n",
      "- avg_no_weekly_trans  1  840090187 5.5548e+10 2033.5\n",
      "<none>                              5.4708e+10 2034.0\n",
      "- age                  1 1446825508 5.6155e+10 2034.6\n",
      "- avg_trans_amt        1 2118620255 5.6826e+10 2035.8\n",
      "- med_bal              1 2427738882 5.7135e+10 2036.3\n",
      "- age_below20          1 3314542362 5.8022e+10 2037.9\n",
      "- age_btw20n40         1 3451929846 5.8160e+10 2038.1\n",
      "- age_btw40n60         1 3488988167 5.8197e+10 2038.2\n",
      "\n",
      "Step:  AIC=2032.81\n",
      "annual_salary ~ gender + age + avg_no_weekly_trans + max_amt + \n",
      "    avg_trans_amt + med_bal + age_below20 + age_btw20n40 + age_btw40n60\n",
      "\n",
      "                      Df  Sum of Sq        RSS    AIC\n",
      "- max_amt              1  403823833 5.5554e+10 2031.5\n",
      "- avg_no_weekly_trans  1  492643567 5.5642e+10 2031.7\n",
      "- gender               1  606221363 5.5756e+10 2031.9\n",
      "<none>                              5.5150e+10 2032.8\n",
      "- age                  1 1467614903 5.6617e+10 2033.4\n",
      "- avg_trans_amt        1 1773642910 5.6923e+10 2034.0\n",
      "- med_bal              1 2388743489 5.7538e+10 2035.0\n",
      "- age_below20          1 3405713656 5.8555e+10 2036.8\n",
      "- age_btw20n40         1 3615668678 5.8765e+10 2037.2\n",
      "- age_btw40n60         1 3656154723 5.8806e+10 2037.2\n",
      "\n",
      "Step:  AIC=2031.54\n",
      "annual_salary ~ gender + age + avg_no_weekly_trans + avg_trans_amt + \n",
      "    med_bal + age_below20 + age_btw20n40 + age_btw40n60\n",
      "\n",
      "                      Df  Sum of Sq        RSS    AIC\n",
      "- avg_no_weekly_trans  1  251832600 5.5805e+10 2030.0\n",
      "- gender               1  565854646 5.6119e+10 2030.6\n",
      "<none>                              5.5554e+10 2031.5\n",
      "- avg_trans_amt        1 1453602653 5.7007e+10 2032.1\n",
      "- age                  1 1474353972 5.7028e+10 2032.2\n",
      "- med_bal              1 2177507763 5.7731e+10 2033.4\n",
      "- age_below20          1 3444980460 5.8998e+10 2035.6\n",
      "- age_btw40n60         1 3515861596 5.9069e+10 2035.7\n",
      "- age_btw20n40         1 3657421264 5.9211e+10 2035.9\n",
      "\n",
      "Step:  AIC=2030\n",
      "annual_salary ~ gender + age + avg_trans_amt + med_bal + age_below20 + \n",
      "    age_btw20n40 + age_btw40n60\n",
      "\n",
      "                Df  Sum of Sq        RSS    AIC\n",
      "- gender         1  684026341 5.6489e+10 2029.2\n",
      "<none>                        5.5805e+10 2030.0\n",
      "- avg_trans_amt  1 1255345047 5.7061e+10 2030.2\n",
      "- age            1 1446593647 5.7252e+10 2030.6\n",
      "- med_bal        1 2220625835 5.8026e+10 2031.9\n",
      "- age_below20    1 3354971048 5.9160e+10 2033.8\n",
      "- age_btw40n60   1 3399288962 5.9205e+10 2033.9\n",
      "- age_btw20n40   1 3502412935 5.9308e+10 2034.1\n",
      "\n",
      "Step:  AIC=2029.21\n",
      "annual_salary ~ age + avg_trans_amt + med_bal + age_below20 + \n",
      "    age_btw20n40 + age_btw40n60\n",
      "\n",
      "                Df  Sum of Sq        RSS    AIC\n",
      "<none>                        5.6489e+10 2029.2\n",
      "- avg_trans_amt  1 1181877136 5.7671e+10 2029.3\n",
      "- age            1 1407448645 5.7897e+10 2029.7\n",
      "- med_bal        1 2665079074 5.9154e+10 2031.8\n",
      "- age_below20    1 3185266094 5.9675e+10 2032.7\n",
      "- age_btw40n60   1 3201136986 5.9691e+10 2032.7\n",
      "- age_btw20n40   1 3420325219 5.9910e+10 2033.1\n"
     ]
    },
    {
     "data": {
      "text/plain": [
       "\n",
       "Call:\n",
       "lm(formula = annual_salary ~ age + avg_trans_amt + med_bal + \n",
       "    age_below20 + age_btw20n40 + age_btw40n60, data = df_cus)\n",
       "\n",
       "Coefficients:\n",
       "  (Intercept)            age  avg_trans_amt        med_bal    age_below20  \n",
       "   -8008.1390       713.6014      -114.2299         0.1625     67111.5662  \n",
       " age_btw20n40   age_btw40n60  \n",
       "   59001.1081     46207.0757  \n"
      ]
     },
     "metadata": {},
     "output_type": "display_data"
    }
   ],
   "source": [
    "MASS::stepAIC(fit1)"
   ]
  },
  {
   "cell_type": "code",
   "execution_count": 27,
   "metadata": {},
   "outputs": [
    {
     "data": {
      "text/plain": [
       "\n",
       "Call:\n",
       "lm(formula = annual_salary ~ age + avg_trans_amt + med_bal + \n",
       "    age_below20 + age_btw20n40 + age_btw40n60, data = df_cus)\n",
       "\n",
       "Residuals:\n",
       "   Min     1Q Median     3Q    Max \n",
       "-36951 -17459  -3556  13641  69382 \n",
       "\n",
       "Coefficients:\n",
       "                Estimate Std. Error t value Pr(>|t|)  \n",
       "(Intercept)   -8.008e+03  3.555e+04  -0.225   0.8223  \n",
       "age            7.136e+02  4.688e+02   1.522   0.1313  \n",
       "avg_trans_amt -1.142e+02  8.189e+01  -1.395   0.1664  \n",
       "med_bal        1.625e-01  7.758e-02   2.095   0.0389 *\n",
       "age_below20    6.711e+04  2.931e+04   2.290   0.0243 *\n",
       "age_btw20n40   5.900e+04  2.486e+04   2.373   0.0197 *\n",
       "age_btw40n60   4.621e+04  2.013e+04   2.296   0.0239 *\n",
       "---\n",
       "Signif. codes:  0 '***' 0.001 '**' 0.01 '*' 0.05 '.' 0.1 ' ' 1\n",
       "\n",
       "Residual standard error: 24650 on 93 degrees of freedom\n",
       "Multiple R-squared:  0.0992,\tAdjusted R-squared:  0.04109 \n",
       "F-statistic: 1.707 on 6 and 93 DF,  p-value: 0.128\n"
      ]
     },
     "metadata": {},
     "output_type": "display_data"
    }
   ],
   "source": [
    "# Backwards model selection together with stepAIC yield the most appropriate model\n",
    "fit2 = lm(formula = annual_salary ~ age + avg_trans_amt + med_bal + age_below20 + age_btw20n40 + age_btw40n60, data = df_cus)\n",
    "summary(fit2)"
   ]
  },
  {
   "cell_type": "code",
   "execution_count": 28,
   "metadata": {},
   "outputs": [
    {
     "data": {
      "image/png": "[encoded data removed]",
      "text/plain": [
       "plot without title"
      ]
     },
     "metadata": {},
     "output_type": "display_data"
    }
   ],
   "source": [
    "# Examine the residuals to capture any missed relationships \n",
    "plot(fit2$residuals, ylab = \"Residual\")"
   ]
  },
  {
   "cell_type": "code",
   "execution_count": 29,
   "metadata": {},
   "outputs": [
    {
     "data": {
      "text/html": [
       "23767.4922294208"
      ],
      "text/latex": [
       "23767.4922294208"
      ],
      "text/markdown": [
       "23767.4922294208"
      ],
      "text/plain": [
       "[1] 23767.49"
      ]
     },
     "metadata": {},
     "output_type": "display_data"
    }
   ],
   "source": [
    "rmse(fit2$fitted.values, df_cus$annual_salary)"
   ]
  },
  {
   "cell_type": "markdown",
   "metadata": {},
   "source": [
    "The RMSE of the model over the whole dataset is over $20,000 which indicates the inaccuracy of the model. The model's adjust R-squared also shows that it only explains about 4% of variation  in customers' annual salary. It is thus risky to use this linear model to predict customers' income bracket. More data is required to develop a more reliable model. "
   ]
  },
  {
   "cell_type": "markdown",
   "metadata": {},
   "source": [
    "# Build a decision-tree based model to predict salary"
   ]
  },
  {
   "cell_type": "code",
   "execution_count": 30,
   "metadata": {},
   "outputs": [
    {
     "data": {
      "image/png": "[encoded data removed]",
      "text/plain": [
       "Plot with title \"Regression tree for annual salary\""
      ]
     },
     "metadata": {},
     "output_type": "display_data"
    }
   ],
   "source": [
    "# Split into training and test datasets\n",
    "smp_size = floor(0.75 * nrow(df_cus))\n",
    "\n",
    "# Set the seed to make partition reproducible\n",
    "set.seed(123)\n",
    "train_ind = sample(seq_len(nrow(df_cus)), size = smp_size)\n",
    "\n",
    "df_cus_train = df_cus[train_ind, ]\n",
    "df_cus_test = df_cus[-train_ind, ]\n",
    "\n",
    "fit3 = rpart(annual_salary ~ gender + age + avg_no_weekly_trans + max_amt + no_large_trans + use_no_day + avg_trans_amt + med_bal + age_below20 + age_btw20n40 + age_btw40n60 + State, method = \"anova\", data = df_cus_train)\n",
    "\n",
    "# Plot tree\n",
    "plot(fit3, uniform = TRUE, main = \"Regression tree for annual salary\")\n",
    "text(fit3, use.n = TRUE, all = TRUE, cex = 0.8)"
   ]
  },
  {
   "cell_type": "code",
   "execution_count": 31,
   "metadata": {
    "scrolled": true
   },
   "outputs": [
    {
     "data": {
      "text/html": [
       "25809.4977586815"
      ],
      "text/latex": [
       "25809.4977586815"
      ],
      "text/markdown": [
       "25809.4977586815"
      ],
      "text/plain": [
       "[1] 25809.5"
      ]
     },
     "metadata": {},
     "output_type": "display_data"
    }
   ],
   "source": [
    "# Examine prediction accuracy\n",
    "rmse(actual = df_cus_test$annual_salary, predicted = predict(object = fit3, newdata = df_cus_test))"
   ]
  }
 ],
 "metadata": {
  "kernelspec": {
   "display_name": "R",
   "language": "R",
   "name": "ir"
  },
  "language_info": {
   "codemirror_mode": "r",
   "file_extension": ".r",
   "mimetype": "text/x-r-source",
   "name": "R",
   "pygments_lexer": "r",
   "version": "3.6.1"
  }
 },
 "nbformat": 4,
 "nbformat_minor": 5
}
